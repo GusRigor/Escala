{
 "cells": [
  {
   "cell_type": "markdown",
   "id": "938d8a7a",
   "metadata": {},
   "source": [
    "## Criação de dados da Escala"
   ]
  },
  {
   "cell_type": "code",
   "execution_count": 1,
   "id": "b25723b0",
   "metadata": {},
   "outputs": [],
   "source": [
    "from datetime import date\n",
    "from classes.escala import Escala\n",
    "from classes.calendario import Calendario\n",
    "from classes.tipoAtividade import TipoAtividade, TipoAtividadeComplementar, TipoAtividadeVazia\n",
    "from classes.atividade import Atividade\n",
    "from enums.tipoMemoria import TipoMemoria\n",
    "from enums.turno import Turno\n"
   ]
  },
  {
   "cell_type": "code",
   "execution_count": 2,
   "id": "29571e8d",
   "metadata": {},
   "outputs": [],
   "source": [
    "atividade_ppp = TipoAtividade(\"Pré-parto, parto e pós-parto\", \"PPP\", 6, TipoMemoria.PRATICA)\n",
    "atividade_cch = TipoAtividadeComplementar(\"PPP\")\n",
    "atividade_mpi = TipoAtividade(\"Metodologia de pesquisa I\", \"MPI\", 6, TipoMemoria.TEORICA)"
   ]
  },
  {
   "cell_type": "code",
   "execution_count": 3,
   "id": "fe2e28ee",
   "metadata": {},
   "outputs": [],
   "source": [
    "atividade_1 = Atividade(atividade_ppp, Turno.MANHA, date(2025, 6, 1))\n",
    "atividade_2 = Atividade(atividade_cch, Turno.TARDE, date(2025, 6, 2))\n",
    "atividade_3 = Atividade(atividade_mpi, Turno.TARDE, date(2025, 6, 1))\n",
    "atividades = [atividade_1, atividade_2, atividade_3]\n",
    "atividades.append(Atividade(atividade_ppp, Turno.MANHA, date(2025, 6, 3)))\n",
    "atividades.append(Atividade(atividade_ppp, Turno.MANHA, date(2025, 6, 4)))\n",
    "atividades.append(Atividade(atividade_ppp, Turno.MANHA, date(2025, 6, 5)))\n",
    "atividades.append(Atividade(atividade_ppp, Turno.MANHA, date(2025, 6, 6)))\n",
    "atividades.append(Atividade(atividade_mpi, Turno.TARDE, date(2025, 6, 7)))"
   ]
  },
  {
   "cell_type": "code",
   "execution_count": 4,
   "id": "f5148e4b",
   "metadata": {},
   "outputs": [
    {
     "name": "stdout",
     "output_type": "stream",
     "text": [
      "Calendário início 2025-06-01, fim 2025-06-30:\n",
      "- Dia: 1 D, PPP - Pré-parto, parto e pós-parto, tipo P  duração 6 horas, turno M\n",
      "- Dia: 1 D, MPI - Metodologia de pesquisa I, tipo T  duração 6 horas, turno T\n",
      "- Dia: 1 D, Atividade Vazia (sem carga horária), turno N\n",
      "- Dia: 2 S, Atividade Vazia (sem carga horária), turno M\n",
      "- Dia: 2 S, CCH - Complementação de carga horária (PPP), tipo P  duração 12 horas, turno T\n",
      "- Dia: 2 S, Atividade Vazia (sem carga horária), turno N\n",
      "- Dia: 3 T, PPP - Pré-parto, parto e pós-parto, tipo P  duração 6 horas, turno M\n",
      "- Dia: 3 T, Atividade Vazia (sem carga horária), turno T\n",
      "- Dia: 3 T, Atividade Vazia (sem carga horária), turno N\n",
      "- Dia: 4 Q, PPP - Pré-parto, parto e pós-parto, tipo P  duração 6 horas, turno M\n",
      "- Dia: 4 Q, Atividade Vazia (sem carga horária), turno T\n",
      "- Dia: 4 Q, Atividade Vazia (sem carga horária), turno N\n",
      "- Dia: 5 Q, PPP - Pré-parto, parto e pós-parto, tipo P  duração 6 horas, turno M\n",
      "- Dia: 5 Q, Atividade Vazia (sem carga horária), turno T\n",
      "- Dia: 5 Q, Atividade Vazia (sem carga horária), turno N\n",
      "- Dia: 6 S, PPP - Pré-parto, parto e pós-parto, tipo P  duração 6 horas, turno M\n",
      "- Dia: 6 S, Atividade Vazia (sem carga horária), turno T\n",
      "- Dia: 6 S, Atividade Vazia (sem carga horária), turno N\n",
      "- Dia: 7 S, Atividade Vazia (sem carga horária), turno M\n",
      "- Dia: 7 S, MPI - Metodologia de pesquisa I, tipo T  duração 6 horas, turno T\n",
      "- Dia: 7 S, Atividade Vazia (sem carga horária), turno N\n",
      "- Dia: 8 D, Atividade Vazia (sem carga horária), turno M\n",
      "- Dia: 8 D, Atividade Vazia (sem carga horária), turno T\n",
      "- Dia: 8 D, Atividade Vazia (sem carga horária), turno N\n",
      "- Dia: 9 S, Atividade Vazia (sem carga horária), turno M\n",
      "- Dia: 9 S, Atividade Vazia (sem carga horária), turno T\n",
      "- Dia: 9 S, Atividade Vazia (sem carga horária), turno N\n",
      "- Dia: 10 T, Atividade Vazia (sem carga horária), turno M\n",
      "- Dia: 10 T, Atividade Vazia (sem carga horária), turno T\n",
      "- Dia: 10 T, Atividade Vazia (sem carga horária), turno N\n",
      "- Dia: 11 Q, Atividade Vazia (sem carga horária), turno M\n",
      "- Dia: 11 Q, Atividade Vazia (sem carga horária), turno T\n",
      "- Dia: 11 Q, Atividade Vazia (sem carga horária), turno N\n",
      "- Dia: 12 Q, Atividade Vazia (sem carga horária), turno M\n",
      "- Dia: 12 Q, Atividade Vazia (sem carga horária), turno T\n",
      "- Dia: 12 Q, Atividade Vazia (sem carga horária), turno N\n",
      "- Dia: 13 S, Atividade Vazia (sem carga horária), turno M\n",
      "- Dia: 13 S, Atividade Vazia (sem carga horária), turno T\n",
      "- Dia: 13 S, Atividade Vazia (sem carga horária), turno N\n",
      "- Dia: 14 S, Atividade Vazia (sem carga horária), turno M\n",
      "- Dia: 14 S, Atividade Vazia (sem carga horária), turno T\n",
      "- Dia: 14 S, Atividade Vazia (sem carga horária), turno N\n",
      "- Dia: 15 D, Atividade Vazia (sem carga horária), turno M\n",
      "- Dia: 15 D, Atividade Vazia (sem carga horária), turno T\n",
      "- Dia: 15 D, Atividade Vazia (sem carga horária), turno N\n",
      "- Dia: 16 S, Atividade Vazia (sem carga horária), turno M\n",
      "- Dia: 16 S, Atividade Vazia (sem carga horária), turno T\n",
      "- Dia: 16 S, Atividade Vazia (sem carga horária), turno N\n",
      "- Dia: 17 T, Atividade Vazia (sem carga horária), turno M\n",
      "- Dia: 17 T, Atividade Vazia (sem carga horária), turno T\n",
      "- Dia: 17 T, Atividade Vazia (sem carga horária), turno N\n",
      "- Dia: 18 Q, Atividade Vazia (sem carga horária), turno M\n",
      "- Dia: 18 Q, Atividade Vazia (sem carga horária), turno T\n",
      "- Dia: 18 Q, Atividade Vazia (sem carga horária), turno N\n",
      "- Dia: 19 Q, Atividade Vazia (sem carga horária), turno M\n",
      "- Dia: 19 Q, Atividade Vazia (sem carga horária), turno T\n",
      "- Dia: 19 Q, Atividade Vazia (sem carga horária), turno N\n",
      "- Dia: 20 S, Atividade Vazia (sem carga horária), turno M\n",
      "- Dia: 20 S, Atividade Vazia (sem carga horária), turno T\n",
      "- Dia: 20 S, Atividade Vazia (sem carga horária), turno N\n",
      "- Dia: 21 S, Atividade Vazia (sem carga horária), turno M\n",
      "- Dia: 21 S, Atividade Vazia (sem carga horária), turno T\n",
      "- Dia: 21 S, Atividade Vazia (sem carga horária), turno N\n",
      "- Dia: 22 D, Atividade Vazia (sem carga horária), turno M\n",
      "- Dia: 22 D, Atividade Vazia (sem carga horária), turno T\n",
      "- Dia: 22 D, Atividade Vazia (sem carga horária), turno N\n",
      "- Dia: 23 S, Atividade Vazia (sem carga horária), turno M\n",
      "- Dia: 23 S, Atividade Vazia (sem carga horária), turno T\n",
      "- Dia: 23 S, Atividade Vazia (sem carga horária), turno N\n",
      "- Dia: 24 T, Atividade Vazia (sem carga horária), turno M\n",
      "- Dia: 24 T, Atividade Vazia (sem carga horária), turno T\n",
      "- Dia: 24 T, Atividade Vazia (sem carga horária), turno N\n",
      "- Dia: 25 Q, Atividade Vazia (sem carga horária), turno M\n",
      "- Dia: 25 Q, Atividade Vazia (sem carga horária), turno T\n",
      "- Dia: 25 Q, Atividade Vazia (sem carga horária), turno N\n",
      "- Dia: 26 Q, Atividade Vazia (sem carga horária), turno M\n",
      "- Dia: 26 Q, Atividade Vazia (sem carga horária), turno T\n",
      "- Dia: 26 Q, Atividade Vazia (sem carga horária), turno N\n",
      "- Dia: 27 S, Atividade Vazia (sem carga horária), turno M\n",
      "- Dia: 27 S, Atividade Vazia (sem carga horária), turno T\n",
      "- Dia: 27 S, Atividade Vazia (sem carga horária), turno N\n",
      "- Dia: 28 S, Atividade Vazia (sem carga horária), turno M\n",
      "- Dia: 28 S, Atividade Vazia (sem carga horária), turno T\n",
      "- Dia: 28 S, Atividade Vazia (sem carga horária), turno N\n",
      "- Dia: 29 D, Atividade Vazia (sem carga horária), turno M\n",
      "- Dia: 29 D, Atividade Vazia (sem carga horária), turno T\n",
      "- Dia: 29 D, Atividade Vazia (sem carga horária), turno N\n",
      "- Dia: 30 S, Atividade Vazia (sem carga horária), turno M\n",
      "- Dia: 30 S, Atividade Vazia (sem carga horária), turno T\n",
      "- Dia: 30 S, Atividade Vazia (sem carga horária), turno N\n"
     ]
    }
   ],
   "source": [
    "calendario = Calendario(date(2025, 6, 1), atividades)\n",
    "print(calendario)"
   ]
  },
  {
   "cell_type": "code",
   "execution_count": 5,
   "id": "47f2f1e4",
   "metadata": {},
   "outputs": [
    {
     "name": "stdout",
     "output_type": "stream",
     "text": [
      "Substituindo atividade vazia no dia 2025-06-30 turno Turno.NOITE\n",
      "Atividade anterior: Dia: 30 S, Atividade Vazia (sem carga horária), turno N\n",
      "Nova atividade: Dia: 30 S, PPP - Pré-parto, parto e pós-parto, tipo P  duração 6 horas, turno N\n"
     ]
    }
   ],
   "source": [
    "atividade_30 = Atividade(atividade_ppp, Turno.NOITE, date(2025, 6, 30))\n",
    "atividade_31 = Atividade(atividade_cch, Turno.NOITE, date(2025, 6, 30))\n",
    "calendario.adicionar_atividade(atividade_30)\n",
    "calendario.adicionar_atividade(atividade_31)\n",
    "# print(calendario)"
   ]
  },
  {
   "cell_type": "code",
   "execution_count": 6,
   "id": "274e7851",
   "metadata": {},
   "outputs": [
    {
     "name": "stdout",
     "output_type": "stream",
     "text": [
      "Escala de Milene Mendes da Silva na Maternidade Bárbara Heliodora:\n",
      "Setores: PPP\n",
      "Preceptores: Enfª Obst. Ana Cláudia\n",
      "Calendário: Calendário início 2025-06-01, fim 2025-06-30:\n",
      "- Dia: 1 D, PPP - Pré-parto, parto e pós-parto, tipo P  duração 6 horas, turno M\n",
      "- Dia: 1 D, MPI - Metodologia de pesquisa I, tipo T  duração 6 horas, turno T\n",
      "- Dia: 1 D, Atividade Vazia (sem carga horária), turno N\n",
      "- Dia: 2 S, Atividade Vazia (sem carga horária), turno M\n",
      "- Dia: 2 S, CCH - Complementação de carga horária (PPP), tipo P  duração 12 horas, turno T\n",
      "- Dia: 2 S, Atividade Vazia (sem carga horária), turno N\n",
      "- Dia: 3 T, PPP - Pré-parto, parto e pós-parto, tipo P  duração 6 horas, turno M\n",
      "- Dia: 3 T, Atividade Vazia (sem carga horária), turno T\n",
      "- Dia: 3 T, Atividade Vazia (sem carga horária), turno N\n",
      "- Dia: 4 Q, PPP - Pré-parto, parto e pós-parto, tipo P  duração 6 horas, turno M\n",
      "- Dia: 4 Q, Atividade Vazia (sem carga horária), turno T\n",
      "- Dia: 4 Q, Atividade Vazia (sem carga horária), turno N\n",
      "- Dia: 5 Q, PPP - Pré-parto, parto e pós-parto, tipo P  duração 6 horas, turno M\n",
      "- Dia: 5 Q, Atividade Vazia (sem carga horária), turno T\n",
      "- Dia: 5 Q, Atividade Vazia (sem carga horária), turno N\n",
      "- Dia: 6 S, PPP - Pré-parto, parto e pós-parto, tipo P  duração 6 horas, turno M\n",
      "- Dia: 6 S, Atividade Vazia (sem carga horária), turno T\n",
      "- Dia: 6 S, Atividade Vazia (sem carga horária), turno N\n",
      "- Dia: 7 S, Atividade Vazia (sem carga horária), turno M\n",
      "- Dia: 7 S, MPI - Metodologia de pesquisa I, tipo T  duração 6 horas, turno T\n",
      "- Dia: 7 S, Atividade Vazia (sem carga horária), turno N\n",
      "- Dia: 8 D, Atividade Vazia (sem carga horária), turno M\n",
      "- Dia: 8 D, Atividade Vazia (sem carga horária), turno T\n",
      "- Dia: 8 D, Atividade Vazia (sem carga horária), turno N\n",
      "- Dia: 9 S, Atividade Vazia (sem carga horária), turno M\n",
      "- Dia: 9 S, Atividade Vazia (sem carga horária), turno T\n",
      "- Dia: 9 S, Atividade Vazia (sem carga horária), turno N\n",
      "- Dia: 10 T, Atividade Vazia (sem carga horária), turno M\n",
      "- Dia: 10 T, Atividade Vazia (sem carga horária), turno T\n",
      "- Dia: 10 T, Atividade Vazia (sem carga horária), turno N\n",
      "- Dia: 11 Q, Atividade Vazia (sem carga horária), turno M\n",
      "- Dia: 11 Q, Atividade Vazia (sem carga horária), turno T\n",
      "- Dia: 11 Q, Atividade Vazia (sem carga horária), turno N\n",
      "- Dia: 12 Q, Atividade Vazia (sem carga horária), turno M\n",
      "- Dia: 12 Q, Atividade Vazia (sem carga horária), turno T\n",
      "- Dia: 12 Q, Atividade Vazia (sem carga horária), turno N\n",
      "- Dia: 13 S, Atividade Vazia (sem carga horária), turno M\n",
      "- Dia: 13 S, Atividade Vazia (sem carga horária), turno T\n",
      "- Dia: 13 S, Atividade Vazia (sem carga horária), turno N\n",
      "- Dia: 14 S, Atividade Vazia (sem carga horária), turno M\n",
      "- Dia: 14 S, Atividade Vazia (sem carga horária), turno T\n",
      "- Dia: 14 S, Atividade Vazia (sem carga horária), turno N\n",
      "- Dia: 15 D, Atividade Vazia (sem carga horária), turno M\n",
      "- Dia: 15 D, Atividade Vazia (sem carga horária), turno T\n",
      "- Dia: 15 D, Atividade Vazia (sem carga horária), turno N\n",
      "- Dia: 16 S, Atividade Vazia (sem carga horária), turno M\n",
      "- Dia: 16 S, Atividade Vazia (sem carga horária), turno T\n",
      "- Dia: 16 S, Atividade Vazia (sem carga horária), turno N\n",
      "- Dia: 17 T, Atividade Vazia (sem carga horária), turno M\n",
      "- Dia: 17 T, Atividade Vazia (sem carga horária), turno T\n",
      "- Dia: 17 T, Atividade Vazia (sem carga horária), turno N\n",
      "- Dia: 18 Q, Atividade Vazia (sem carga horária), turno M\n",
      "- Dia: 18 Q, Atividade Vazia (sem carga horária), turno T\n",
      "- Dia: 18 Q, Atividade Vazia (sem carga horária), turno N\n",
      "- Dia: 19 Q, Atividade Vazia (sem carga horária), turno M\n",
      "- Dia: 19 Q, Atividade Vazia (sem carga horária), turno T\n",
      "- Dia: 19 Q, Atividade Vazia (sem carga horária), turno N\n",
      "- Dia: 20 S, Atividade Vazia (sem carga horária), turno M\n",
      "- Dia: 20 S, Atividade Vazia (sem carga horária), turno T\n",
      "- Dia: 20 S, Atividade Vazia (sem carga horária), turno N\n",
      "- Dia: 21 S, Atividade Vazia (sem carga horária), turno M\n",
      "- Dia: 21 S, Atividade Vazia (sem carga horária), turno T\n",
      "- Dia: 21 S, Atividade Vazia (sem carga horária), turno N\n",
      "- Dia: 22 D, Atividade Vazia (sem carga horária), turno M\n",
      "- Dia: 22 D, Atividade Vazia (sem carga horária), turno T\n",
      "- Dia: 22 D, Atividade Vazia (sem carga horária), turno N\n",
      "- Dia: 23 S, Atividade Vazia (sem carga horária), turno M\n",
      "- Dia: 23 S, Atividade Vazia (sem carga horária), turno T\n",
      "- Dia: 23 S, Atividade Vazia (sem carga horária), turno N\n",
      "- Dia: 24 T, Atividade Vazia (sem carga horária), turno M\n",
      "- Dia: 24 T, Atividade Vazia (sem carga horária), turno T\n",
      "- Dia: 24 T, Atividade Vazia (sem carga horária), turno N\n",
      "- Dia: 25 Q, Atividade Vazia (sem carga horária), turno M\n",
      "- Dia: 25 Q, Atividade Vazia (sem carga horária), turno T\n",
      "- Dia: 25 Q, Atividade Vazia (sem carga horária), turno N\n",
      "- Dia: 26 Q, Atividade Vazia (sem carga horária), turno M\n",
      "- Dia: 26 Q, Atividade Vazia (sem carga horária), turno T\n",
      "- Dia: 26 Q, Atividade Vazia (sem carga horária), turno N\n",
      "- Dia: 27 S, Atividade Vazia (sem carga horária), turno M\n",
      "- Dia: 27 S, Atividade Vazia (sem carga horária), turno T\n",
      "- Dia: 27 S, Atividade Vazia (sem carga horária), turno N\n",
      "- Dia: 28 S, Atividade Vazia (sem carga horária), turno M\n",
      "- Dia: 28 S, Atividade Vazia (sem carga horária), turno T\n",
      "- Dia: 28 S, Atividade Vazia (sem carga horária), turno N\n",
      "- Dia: 29 D, Atividade Vazia (sem carga horária), turno M\n",
      "- Dia: 29 D, Atividade Vazia (sem carga horária), turno T\n",
      "- Dia: 29 D, Atividade Vazia (sem carga horária), turno N\n",
      "- Dia: 30 S, Atividade Vazia (sem carga horária), turno M\n",
      "- Dia: 30 S, Atividade Vazia (sem carga horária), turno T\n",
      "- Dia: 30 S, PPP - Pré-parto, parto e pós-parto, tipo P  duração 6 horas, turno N\n",
      "Memória de cálculo hospitalar: ['CCH-12=1x12=12h', 'PPP-6=6x6=36h'] = 48h\n",
      "Memória de cálculo teórica: ['MPI-6=2x6=12h'] = 12h\n",
      "Setores:\n",
      "CCH - Complementação de carga horária (PPP)\n",
      " - \n",
      "MPI - Metodologia de pesquisa I\n",
      "PPP - Pré-parto, parto e pós-parto\n"
     ]
    }
   ],
   "source": [
    "escala = Escala(\n",
    "    instituicao=\"Maternidade Bárbara Heliodora\",\n",
    "    residente=\"Milene Mendes da Silva\",\n",
    "    setores=[\"PPP\"],\n",
    "    preceptores=[\"Enfª Obst. Ana Cláudia\"],\n",
    "    calendario=calendario\n",
    ")\n",
    "\n",
    "print(escala)"
   ]
  },
  {
   "cell_type": "markdown",
   "id": "747f8342",
   "metadata": {},
   "source": [
    "## Criação do pdf da escala"
   ]
  },
  {
   "cell_type": "code",
   "execution_count": 7,
   "id": "d106ec1a",
   "metadata": {},
   "outputs": [],
   "source": [
    "import os\n",
    "import subprocess\n",
    "from jinja2 import Template "
   ]
  },
  {
   "cell_type": "code",
   "execution_count": 8,
   "id": "e948da94",
   "metadata": {},
   "outputs": [],
   "source": [
    "from classes.conversores.conversor import Conversor\n",
    "conversor = Conversor()"
   ]
  },
  {
   "cell_type": "markdown",
   "id": "ad1b8e08",
   "metadata": {},
   "source": [
    "### cabeçalho"
   ]
  },
  {
   "cell_type": "code",
   "execution_count": 9,
   "id": "a7a01ba6",
   "metadata": {},
   "outputs": [],
   "source": [
    "from classes.modelos.cabecalho import Cabecalho\n",
    "\n",
    "def gerar_cabecalho(cabecalho: Cabecalho):\n",
    "    with open(\"latex/escala/templates/cabecalho.tex\", \"r\", encoding=\"utf-8\") as f:\n",
    "        cabecalho_template = Template(f.read())\n",
    "    \n",
    "    cabecalho_dados = cabecalho.render()\n",
    "    rendered_cabecalho = cabecalho_template.render(cabecalho_dados)\n",
    "    \n",
    "    with open(\"latex/escala/cabecalho.tex\", \"w\", encoding=\"utf-8\") as f:\n",
    "        f.write(rendered_cabecalho)"
   ]
  },
  {
   "cell_type": "markdown",
   "id": "bd5655a3",
   "metadata": {},
   "source": [
    "### tabela"
   ]
  },
  {
   "cell_type": "code",
   "execution_count": 10,
   "id": "120bd7b8",
   "metadata": {},
   "outputs": [],
   "source": [
    "from classes.modelos.tabela import Tabela\n",
    "\n",
    "def gerar_tabela(tabela: Tabela):\n",
    "    with open(\"latex/escala/templates/tabela.tex\", \"r\", encoding=\"utf-8\") as f:\n",
    "        tabela_template = Template(f.read())\n",
    "    \n",
    "    tabela_dados = tabela.render()\n",
    "    rendered_tabela = tabela_template.render(tabela_dados)\n",
    "    \n",
    "    with open(\"latex/escala/tabela.tex\", \"w\", encoding=\"utf-8\") as f:\n",
    "        f.write(rendered_tabela)"
   ]
  },
  {
   "cell_type": "markdown",
   "id": "210bd167",
   "metadata": {},
   "source": [
    "### memória"
   ]
  },
  {
   "cell_type": "code",
   "execution_count": 15,
   "id": "5f2ff7df",
   "metadata": {},
   "outputs": [],
   "source": [
    "from classes.modelos.memoria import Memoria\n",
    "\n",
    "def gerar_memoria(memoria: Memoria):\n",
    "    with open(\"latex/escala/templates/memoria.tex\", \"r\", encoding=\"utf-8\") as f:\n",
    "        memoria_template = Template(f.read())\n",
    "    \n",
    "    memoria_dados = memoria.render()\n",
    "    rendered_memoria = memoria_template.render(memoria_dados)\n",
    "    \n",
    "    with open(\"latex/escala/memoria.tex\", \"w\", encoding=\"utf-8\") as f:\n",
    "        f.write(rendered_memoria)"
   ]
  },
  {
   "cell_type": "markdown",
   "id": "fa903a2b",
   "metadata": {},
   "source": [
    "### atividades"
   ]
  },
  {
   "cell_type": "code",
   "execution_count": 16,
   "id": "1daddd87",
   "metadata": {},
   "outputs": [],
   "source": [
    "from classes.modelos.atividades import Atividades\n",
    "\n",
    "def gerar_atividades(atividades: Atividades):\n",
    "    with open(\"latex/escala/templates/atividades.tex\", \"r\", encoding=\"utf-8\") as f:\n",
    "        atividades_template = Template(f.read())\n",
    "    \n",
    "    atividades_dados = atividades.render()\n",
    "    rendered_atividades = atividades_template.render(atividades_dados)\n",
    "    \n",
    "    with open(\"latex/escala/atividades.tex\", \"w\", encoding=\"utf-8\") as f:\n",
    "        f.write(rendered_atividades)"
   ]
  },
  {
   "cell_type": "markdown",
   "id": "777502cf",
   "metadata": {},
   "source": [
    "### escala"
   ]
  },
  {
   "cell_type": "code",
   "execution_count": 17,
   "id": "0fc02c89",
   "metadata": {},
   "outputs": [],
   "source": [
    "def gerar_escala(escala: Escala, conversor: Conversor):\n",
    "    cabecalho = conversor.converter_escala_para_cabecalho(escala)\n",
    "    tabela = conversor.converter_calendario_para_tabela(escala.calendario)\n",
    "    memoria = conversor.converter_escala_para_memoria(escala)\n",
    "    atividades = conversor.converter_escala_para_atividades(escala)\n",
    "\n",
    "    gerar_cabecalho(cabecalho)\n",
    "    gerar_tabela(tabela)\n",
    "    gerar_memoria(memoria)\n",
    "    gerar_atividades(atividades)\n",
    "\n",
    "    with open(\"latex/escala.tex\", \"r\", encoding=\"utf-8\") as f:\n",
    "        template = Template(f.read())\n",
    "    \n",
    "    rendered_tex = template.render()\n",
    "\n",
    "    with open(\"latex/main.tex\", \"w\", encoding=\"utf-8\") as f:\n",
    "        f.write(rendered_tex)\n",
    "    subprocess.run([\n",
    "        \"pdflatex\",\n",
    "        \"-output-directory=latex\",\n",
    "        \"latex/main.tex\"\n",
    "    ])"
   ]
  },
  {
   "cell_type": "code",
   "execution_count": 18,
   "id": "d7d1fc96",
   "metadata": {},
   "outputs": [
    {
     "name": "stdout",
     "output_type": "stream",
     "text": [
      "This is pdfTeX, Version 3.141592653-2.6-1.40.27 (TeX Live 2025) (preloaded format=pdflatex)\n",
      " restricted \\write18 enabled.\n",
      "entering extended mode\n",
      "(./latex/main.tex\n",
      "LaTeX2e <2024-11-01> patch level 2\n",
      "L3 programming layer <2025-01-18>\n",
      "(/usr/local/texlive/2025/texmf-dist/tex/latex/base/article.cls\n",
      "Document Class: article 2024/06/29 v1.4n Standard LaTeX document class\n",
      "(/usr/local/texlive/2025/texmf-dist/tex/latex/base/size12.clo))\n",
      "(/usr/local/texlive/2025/texmf-dist/tex/latex/base/inputenc.sty)\n",
      "(/usr/local/texlive/2025/texmf-dist/tex/generic/babel/babel.sty\n",
      "(/usr/local/texlive/2025/texmf-dist/tex/generic/babel/txtbabel.def)\n",
      "(/usr/local/texlive/2025/texmf-dist/tex/generic/babel-portuges/brazil.ldf))\n",
      "(/usr/local/texlive/2025/texmf-dist/tex/latex/geometry/geometry.sty\n",
      "(/usr/local/texlive/2025/texmf-dist/tex/latex/graphics/keyval.sty)\n",
      "(/usr/local/texlive/2025/texmf-dist/tex/generic/iftex/ifvtex.sty\n",
      "(/usr/local/texlive/2025/texmf-dist/tex/generic/iftex/iftex.sty)))\n",
      "(/usr/local/texlive/2025/texmf-dist/tex/latex/tools/array.sty)\n",
      "(/usr/local/texlive/2025/texmf-dist/tex/latex/multirow/multirow.sty)\n",
      "(/usr/local/texlive/2025/texmf-dist/tex/latex/graphics/graphicx.sty\n",
      "(/usr/local/texlive/2025/texmf-dist/tex/latex/graphics/graphics.sty\n",
      "(/usr/local/texlive/2025/texmf-dist/tex/latex/graphics/trig.sty)\n",
      "(/usr/local/texlive/2025/texmf-dist/tex/latex/graphics-cfg/graphics.cfg)\n",
      "(/usr/local/texlive/2025/texmf-dist/tex/latex/graphics-def/pdftex.def)))\n",
      "(/usr/local/texlive/2025/texmf-dist/tex/latex/pdflscape/pdflscape.sty\n",
      "(/usr/local/texlive/2025/texmf-dist/tex/latex/pdflscape/pdflscape-nometadata.st\n",
      "y (/usr/local/texlive/2025/texmf-dist/tex/latex/graphics/lscape.sty)))\n",
      "(/usr/local/texlive/2025/texmf-dist/tex/latex/booktabs/booktabs.sty)\n",
      "(/usr/local/texlive/2025/texmf-dist/tex/latex/tools/multicol.sty)\n",
      "(/usr/local/texlive/2025/texmf-dist/tex/latex/parskip/parskip.sty\n",
      "(/usr/local/texlive/2025/texmf-dist/tex/latex/kvoptions/kvoptions.sty\n",
      "(/usr/local/texlive/2025/texmf-dist/tex/generic/ltxcmds/ltxcmds.sty)\n",
      "(/usr/local/texlive/2025/texmf-dist/tex/latex/kvsetkeys/kvsetkeys.sty))\n",
      "(/usr/local/texlive/2025/texmf-dist/tex/latex/etoolbox/etoolbox.sty))\n",
      "(/usr/local/texlive/2025/texmf-dist/tex/latex/varwidth/varwidth.sty)\n",
      "(/usr/local/texlive/2025/texmf-dist/tex/latex/tools/tabularx.sty)\n",
      "(/usr/local/texlive/2025/texmf-dist/tex/latex/psnfss/helvet.sty)\n",
      "(/usr/local/texlive/2025/texmf-dist/tex/latex/xcolor/xcolor.sty\n",
      "(/usr/local/texlive/2025/texmf-dist/tex/latex/graphics-cfg/color.cfg)\n",
      "(/usr/local/texlive/2025/texmf-dist/tex/latex/graphics/mathcolor.ltx))\n",
      "(/usr/local/texlive/2025/texmf-dist/tex/latex/colortbl/colortbl.sty)\n",
      "(/usr/local/texlive/2025/texmf-dist/tex/latex/psnfss/ot1phv.fd)\n",
      "(/usr/local/texlive/2025/texmf-dist/tex/latex/l3backend/l3backend-pdftex.def)\n",
      "(latex/main.aux)\n",
      "*geometry* driver: auto-detecting\n",
      "*geometry* detected driver: pdftex\n",
      "(/usr/local/texlive/2025/texmf-dist/tex/context/base/mkii/supp-pdf.mkii\n",
      "[Loading MPS to PDF converter (version 2006.09.02).]\n",
      ") (/usr/local/texlive/2025/texmf-dist/tex/latex/epstopdf-pkg/epstopdf-base.sty\n",
      "(/usr/local/texlive/2025/texmf-dist/tex/latex/latexconfig/epstopdf-sys.cfg))\n",
      "(latex/escala/cabecalho.tex\n",
      "(/usr/local/texlive/2025/texmf-dist/tex/latex/psnfss/ts1phv.fd))\n",
      "(latex/escala/tabela.tex\n",
      "Overfull \\hbox (1.32968pt too wide) in paragraph at lines 6--168\n",
      " [] \n",
      ") (latex/escala/memoria.tex)\n",
      "Underfull \\hbox (badness 10000) in paragraph at lines 2--33\n",
      "\n",
      "(latex/escala/atividades.tex) (latex/escala/versiculo.tex)\n",
      "(latex/escala/atividades.tex) (latex/escala/versiculo.tex)\n",
      "(latex/escala/atividades.tex) (latex/escala/versiculo.tex)\n",
      "[1{/usr/local/texlive/2025/texmf-var/fonts/map/pdftex/updmap/pdftex.map}{/usr/l\n",
      "ocal/texlive/2025/texmf-dist/fonts/enc/dvips/base/8r.enc} <latex/escala/recurso\n",
      "s/ufac-logo.jpeg>] (latex/main.aux) )\n",
      "(see the transcript file for additional information)</usr/local/texlive/2025/te\n",
      "xmf-dist/fonts/type1/urw/helvetic/uhvb8a.pfb></usr/local/texlive/2025/texmf-dis\n",
      "t/fonts/type1/urw/helvetic/uhvr8a.pfb>\n",
      "Output written on latex/main.pdf (1 page, 32964 bytes).\n",
      "Transcript written on latex/main.log.\n"
     ]
    }
   ],
   "source": [
    "gerar_escala(escala, conversor)"
   ]
  }
 ],
 "metadata": {
  "kernelspec": {
   "display_name": "venv",
   "language": "python",
   "name": "python3"
  },
  "language_info": {
   "codemirror_mode": {
    "name": "ipython",
    "version": 3
   },
   "file_extension": ".py",
   "mimetype": "text/x-python",
   "name": "python",
   "nbconvert_exporter": "python",
   "pygments_lexer": "ipython3",
   "version": "3.8.5"
  }
 },
 "nbformat": 4,
 "nbformat_minor": 5
}
