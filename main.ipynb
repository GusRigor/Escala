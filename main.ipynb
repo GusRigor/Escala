{
 "cells": [
  {
   "cell_type": "code",
   "execution_count": 1,
   "id": "b25723b0",
   "metadata": {},
   "outputs": [
    {
     "ename": "SyntaxError",
     "evalue": "invalid syntax (calendario.py, line 6)",
     "output_type": "error",
     "traceback": [
      "Traceback \u001b[36m(most recent call last)\u001b[39m:\n",
      "  File \u001b[92m~/Developer/Python/escala_enfermagem/venv/lib/python3.12/site-packages/IPython/core/interactiveshell.py:3672\u001b[39m in \u001b[95mrun_code\u001b[39m\n    exec(code_obj, self.user_global_ns, self.user_ns)\n",
      "\u001b[36m  \u001b[39m\u001b[36mCell\u001b[39m\u001b[36m \u001b[39m\u001b[32mIn[1]\u001b[39m\u001b[32m, line 3\u001b[39m\n\u001b[31m    \u001b[39m\u001b[31mfrom classes.calendario import Calendario\u001b[39m\n",
      "  \u001b[36mFile \u001b[39m\u001b[32m~/Developer/Python/escala_enfermagem/source/classes/calendario.py:6\u001b[39m\n\u001b[31m    \u001b[39m\u001b[31mdef __init__(self, data:date, atividades:list<Atividade>):\u001b[39m\n                                                            ^\n\u001b[31mSyntaxError\u001b[39m\u001b[31m:\u001b[39m invalid syntax\n"
     ]
    }
   ],
   "source": [
    "from datetime import date\n",
    "from classes.escala import Escala\n",
    "from classes.calendario import Calendario\n",
    "from classes.tipoAtividade import TipoAtividade\n",
    "from classes.atividade import Atividade"
   ]
  },
  {
   "cell_type": "code",
   "execution_count": 7,
   "id": "29571e8d",
   "metadata": {},
   "outputs": [],
   "source": [
    "atividade_ppp = TipoAtividade(\"Pré-parto, parto e pós-parto\", \"PPP\", 6, 'P')\n",
    "atividade_cch = TipoAtividade(\"Complementação de carga horária (CCH)\", \"CCH\", 12, 'P')\n",
    "atividade_mpi = TipoAtividade(\"Metodologia de pesquisa I\", \"MPI\", 6, 'T')"
   ]
  },
  {
   "cell_type": "code",
   "execution_count": 8,
   "id": "fe2e28ee",
   "metadata": {},
   "outputs": [],
   "source": [
    "atividade_1 = Atividade(atividade_ppp, \"M\", date(2025, 6, 1))\n",
    "atividade_2 = Atividade(atividade_cch, \"T\", date(2025, 6, 2))\n",
    "atividade_3 = Atividade(atividade_mpi, \"T\", date(2025, 6, 1))\n",
    "atividades = [atividade_1, atividade_2, atividade_3]\n",
    "atividades.append(Atividade(atividade_ppp, \"M\", date(2025, 6, 3)))\n",
    "atividades.append(Atividade(atividade_ppp, \"M\", date(2025, 6, 4)))\n",
    "atividades.append(Atividade(atividade_ppp, \"M\", date(2025, 6, 5)))\n",
    "atividades.append(Atividade(atividade_ppp, \"M\", date(2025, 6, 6)))\n",
    "atividades.append(Atividade(atividade_mpi, \"T\", date(2025, 6, 7)))"
   ]
  },
  {
   "cell_type": "code",
   "execution_count": 9,
   "id": "f5148e4b",
   "metadata": {},
   "outputs": [
    {
     "name": "stdout",
     "output_type": "stream",
     "text": [
      "Calendário início 2025-06-01, fim 2025-06-30:\n",
      "- Dia: 1 D, PPP - Pré-parto, parto e pós-parto, tipo P  duração 6 horas, turno M\n",
      "- Dia: 2 S, CCH - Complementação de carga horária (CCH), tipo P  duração 12 horas, turno T\n",
      "- Dia: 1 D, MPI - Metodologia de pesquisa I, tipo T  duração 6 horas, turno T\n",
      "- Dia: 3 T, PPP - Pré-parto, parto e pós-parto, tipo P  duração 6 horas, turno M\n",
      "- Dia: 4 Q, PPP - Pré-parto, parto e pós-parto, tipo P  duração 6 horas, turno M\n",
      "- Dia: 5 Q, PPP - Pré-parto, parto e pós-parto, tipo P  duração 6 horas, turno M\n",
      "- Dia: 6 S, PPP - Pré-parto, parto e pós-parto, tipo P  duração 6 horas, turno M\n",
      "- Dia: 7 S, MPI - Metodologia de pesquisa I, tipo T  duração 6 horas, turno T\n"
     ]
    }
   ],
   "source": [
    "calendario = Calendario(date(2025, 6, 1), atividades)\n",
    "print(calendario)"
   ]
  },
  {
   "cell_type": "code",
   "execution_count": null,
   "id": "274e7851",
   "metadata": {},
   "outputs": [
    {
     "name": "stdout",
     "output_type": "stream",
     "text": [
      "Escala de Milene Mendes da Silva na Maternidade Bárbara Heliodora:\n",
      "Setores: PPP\n",
      "Preceptores: Enfª Obst. Ana Cláudia\n",
      "Calendário: Calendário início 2025-06-01, fim 2025-06-30:\n",
      "- Dia: 1 D, PPP - Pré-parto, parto e pós-parto, tipo P  duração 6 horas, turno M\n",
      "- Dia: 2 S, CCH - Complementação de carga horária (CCH), tipo P  duração 12 horas, turno T\n",
      "- Dia: 1 D, MPI - Metodologia de pesquisa I, tipo T  duração 6 horas, turno T\n",
      "- Dia: 3 T, PPP - Pré-parto, parto e pós-parto, tipo P  duração 6 horas, turno M\n",
      "- Dia: 4 Q, PPP - Pré-parto, parto e pós-parto, tipo P  duração 6 horas, turno M\n",
      "- Dia: 5 Q, PPP - Pré-parto, parto e pós-parto, tipo P  duração 6 horas, turno M\n",
      "- Dia: 6 S, PPP - Pré-parto, parto e pós-parto, tipo P  duração 6 horas, turno M\n",
      "- Dia: 7 S, MPI - Metodologia de pesquisa I, tipo T  duração 6 horas, turno T\n"
     ]
    }
   ],
   "source": [
    "escala = Escala(\n",
    "    instituicao=\"Maternidade Bárbara Heliodora\",\n",
    "    residente=\"Milene Mendes da Silva\",\n",
    "    setores=[\"PPP\"],\n",
    "    preceptores=[\"Enfª Obst. Ana Cláudia\"],\n",
    "    calendario=calendario\n",
    ")\n",
    "\n",
    "print(escala)"
   ]
  }
 ],
 "metadata": {
  "kernelspec": {
   "display_name": "venv",
   "language": "python",
   "name": "python3"
  },
  "language_info": {
   "codemirror_mode": {
    "name": "ipython",
    "version": 3
   },
   "file_extension": ".py",
   "mimetype": "text/x-python",
   "name": "python",
   "nbconvert_exporter": "python",
   "pygments_lexer": "ipython3",
   "version": "3.12.4"
  }
 },
 "nbformat": 4,
 "nbformat_minor": 5
}
