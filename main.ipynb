{
 "cells": [
  {
   "cell_type": "code",
   "execution_count": 1,
   "id": "b25723b0",
   "metadata": {},
   "outputs": [],
   "source": [
    "from datetime import date\n",
    "from classes.escala import Escala\n",
    "from classes.calendario import Calendario\n",
    "from classes.tipoAtividade import TipoAtividade\n",
    "from classes.atividade import Atividade\n",
    "from classes.memoriaCalculo import MemoriaCalculo"
   ]
  },
  {
   "cell_type": "code",
   "execution_count": 2,
   "id": "29571e8d",
   "metadata": {},
   "outputs": [],
   "source": [
    "atividade_ppp = TipoAtividade(\"Pré-parto, parto e pós-parto\", \"PPP\", 6, 'P')\n",
    "atividade_cch = TipoAtividade(\"Complementação de carga horária (CCH)\", \"CCH\", 12, 'P')\n",
    "atividade_mpi = TipoAtividade(\"Metodologia de pesquisa I\", \"MPI\", 6, 'T')"
   ]
  },
  {
   "cell_type": "code",
   "execution_count": 3,
   "id": "fe2e28ee",
   "metadata": {},
   "outputs": [],
   "source": [
    "atividade_1 = Atividade(atividade_ppp, \"M\", date(2025, 6, 1))\n",
    "atividade_2 = Atividade(atividade_cch, \"T\", date(2025, 6, 2))\n",
    "atividade_3 = Atividade(atividade_mpi, \"T\", date(2025, 6, 1))\n",
    "atividades = [atividade_1, atividade_2, atividade_3]\n",
    "atividades.append(Atividade(atividade_ppp, \"M\", date(2025, 6, 3)))\n",
    "atividades.append(Atividade(atividade_ppp, \"M\", date(2025, 6, 4)))\n",
    "atividades.append(Atividade(atividade_ppp, \"M\", date(2025, 6, 5)))\n",
    "atividades.append(Atividade(atividade_ppp, \"M\", date(2025, 6, 6)))\n",
    "atividades.append(Atividade(atividade_mpi, \"T\", date(2025, 6, 7)))"
   ]
  },
  {
   "cell_type": "code",
   "execution_count": 4,
   "id": "f5148e4b",
   "metadata": {},
   "outputs": [
    {
     "name": "stdout",
     "output_type": "stream",
     "text": [
      "Calendário início 2025-06-01, fim 2025-06-30:\n",
      "- Dia: 1 D, PPP - Pré-parto, parto e pós-parto, tipo P  duração 6 horas, turno M\n",
      "- Dia: 2 S, CCH - Complementação de carga horária (CCH), tipo P  duração 12 horas, turno T\n",
      "- Dia: 1 D, MPI - Metodologia de pesquisa I, tipo T  duração 6 horas, turno T\n",
      "- Dia: 3 T, PPP - Pré-parto, parto e pós-parto, tipo P  duração 6 horas, turno M\n",
      "- Dia: 4 Q, PPP - Pré-parto, parto e pós-parto, tipo P  duração 6 horas, turno M\n",
      "- Dia: 5 Q, PPP - Pré-parto, parto e pós-parto, tipo P  duração 6 horas, turno M\n",
      "- Dia: 6 S, PPP - Pré-parto, parto e pós-parto, tipo P  duração 6 horas, turno M\n",
      "- Dia: 7 S, MPI - Metodologia de pesquisa I, tipo T  duração 6 horas, turno T\n"
     ]
    }
   ],
   "source": [
    "calendario = Calendario(date(2025, 6, 1), atividades)\n",
    "print(calendario)"
   ]
  },
  {
   "cell_type": "code",
   "execution_count": 5,
   "id": "274e7851",
   "metadata": {},
   "outputs": [
    {
     "name": "stdout",
     "output_type": "stream",
     "text": [
      "Escala de Milene Mendes da Silva na Maternidade Bárbara Heliodora:\n",
      "Setores: PPP\n",
      "Preceptores: Enfª Obst. Ana Cláudia\n",
      "Calendário: Calendário início 2025-06-01, fim 2025-06-30:\n",
      "- Dia: 1 D, PPP - Pré-parto, parto e pós-parto, tipo P  duração 6 horas, turno M\n",
      "- Dia: 2 S, CCH - Complementação de carga horária (CCH), tipo P  duração 12 horas, turno T\n",
      "- Dia: 1 D, MPI - Metodologia de pesquisa I, tipo T  duração 6 horas, turno T\n",
      "- Dia: 3 T, PPP - Pré-parto, parto e pós-parto, tipo P  duração 6 horas, turno M\n",
      "- Dia: 4 Q, PPP - Pré-parto, parto e pós-parto, tipo P  duração 6 horas, turno M\n",
      "- Dia: 5 Q, PPP - Pré-parto, parto e pós-parto, tipo P  duração 6 horas, turno M\n",
      "- Dia: 6 S, PPP - Pré-parto, parto e pós-parto, tipo P  duração 6 horas, turno M\n",
      "- Dia: 7 S, MPI - Metodologia de pesquisa I, tipo T  duração 6 horas, turno T\n",
      "Memória de cálculo hospitalar: ['CCH-12=1x12=12h', 'PPP-6=5x6=30h'] = 42h\n",
      "Memória de cálculo teórica: ['MPI-6=2x6=12h'] = 12h\n"
     ]
    }
   ],
   "source": [
    "escala = Escala(\n",
    "    instituicao=\"Maternidade Bárbara Heliodora\",\n",
    "    residente=\"Milene Mendes da Silva\",\n",
    "    setores=[\"PPP\"],\n",
    "    preceptores=[\"Enfª Obst. Ana Cláudia\"],\n",
    "    calendario=calendario\n",
    ")\n",
    "\n",
    "print(escala)"
   ]
  }
 ],
 "metadata": {
  "kernelspec": {
   "display_name": "venv",
   "language": "python",
   "name": "python3"
  },
  "language_info": {
   "codemirror_mode": {
    "name": "ipython",
    "version": 3
   },
   "file_extension": ".py",
   "mimetype": "text/x-python",
   "name": "python",
   "nbconvert_exporter": "python",
   "pygments_lexer": "ipython3",
   "version": "3.12.4"
  }
 },
 "nbformat": 4,
 "nbformat_minor": 5
}
